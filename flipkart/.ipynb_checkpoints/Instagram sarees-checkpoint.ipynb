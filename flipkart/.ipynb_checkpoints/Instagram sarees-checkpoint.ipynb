{
 "cells": [
  {
   "cell_type": "code",
   "execution_count": 1,
   "id": "57c28c29",
   "metadata": {},
   "outputs": [],
   "source": [
    "#imports here\n",
    "from selenium import webdriver\n",
    "from selenium.webdriver.common.keys import Keys\n",
    "from selenium.webdriver.support import expected_conditions as EC\n",
    "from selenium.webdriver.common.by import By\n",
    "from selenium.webdriver.support.wait import WebDriverWait\n",
    "from selenium import webdriver\n",
    "from selenium.webdriver.chrome.service import Service\n",
    "from webdriver_manager.chrome import ChromeDriverManager\n",
    "import time"
   ]
  },
  {
   "cell_type": "code",
   "execution_count": 2,
   "id": "4f079311",
   "metadata": {},
   "outputs": [
    {
     "name": "stdout",
     "output_type": "stream",
     "text": [
      "\n"
     ]
    },
    {
     "ename": "TimeoutException",
     "evalue": "Message: \nStacktrace:\nBacktrace:\n\tOrdinal0 [0x00415FD3+2187219]\n\tOrdinal0 [0x003AE6D1+1763025]\n\tOrdinal0 [0x002C3E78+802424]\n\tOrdinal0 [0x002F1C10+990224]\n\tOrdinal0 [0x002F1EAB+990891]\n\tOrdinal0 [0x0031EC92+1174674]\n\tOrdinal0 [0x0030CBD4+1100756]\n\tOrdinal0 [0x0031CFC2+1167298]\n\tOrdinal0 [0x0030C9A6+1100198]\n\tOrdinal0 [0x002E6F80+946048]\n\tOrdinal0 [0x002E7E76+949878]\n\tGetHandleVerifier [0x006B90C2+2721218]\n\tGetHandleVerifier [0x006AAAF0+2662384]\n\tGetHandleVerifier [0x004A137A+526458]\n\tGetHandleVerifier [0x004A0416+522518]\n\tOrdinal0 [0x003B4EAB+1789611]\n\tOrdinal0 [0x003B97A8+1808296]\n\tOrdinal0 [0x003B9895+1808533]\n\tOrdinal0 [0x003C26C1+1844929]\n\tBaseThreadInitThunk [0x753B6739+25]\n\tRtlGetFullPathName_UEx [0x77598FEF+1215]\n\tRtlGetFullPathName_UEx [0x77598FBD+1165]\n",
     "output_type": "error",
     "traceback": [
      "\u001b[1;31m---------------------------------------------------------------------------\u001b[0m",
      "\u001b[1;31mTimeoutException\u001b[0m                          Traceback (most recent call last)",
      "Input \u001b[1;32mIn [2]\u001b[0m, in \u001b[0;36m<cell line: 5>\u001b[1;34m()\u001b[0m\n\u001b[0;32m      3\u001b[0m \u001b[38;5;66;03m#open the webpage\u001b[39;00m\n\u001b[0;32m      4\u001b[0m driver\u001b[38;5;241m.\u001b[39mget(\u001b[38;5;124m\"\u001b[39m\u001b[38;5;124mhttps://www.instagram.com/explore/tags/flipkartsaree/\u001b[39m\u001b[38;5;124m\"\u001b[39m)\n\u001b[1;32m----> 5\u001b[0m login \u001b[38;5;241m=\u001b[39m \u001b[43mWebDriverWait\u001b[49m\u001b[43m(\u001b[49m\u001b[43mdriver\u001b[49m\u001b[43m,\u001b[49m\u001b[43m \u001b[49m\u001b[38;5;241;43m2\u001b[39;49m\u001b[43m)\u001b[49m\u001b[38;5;241;43m.\u001b[39;49m\u001b[43muntil\u001b[49m\u001b[43m(\u001b[49m\u001b[43mEC\u001b[49m\u001b[38;5;241;43m.\u001b[39;49m\u001b[43melement_to_be_clickable\u001b[49m\u001b[43m(\u001b[49m\u001b[43m(\u001b[49m\u001b[43mBy\u001b[49m\u001b[38;5;241;43m.\u001b[39;49m\u001b[43mCSS_SELECTOR\u001b[49m\u001b[43m,\u001b[49m\u001b[43m \u001b[49m\u001b[38;5;124;43m\"\u001b[39;49m\u001b[38;5;124;43mbutton[type=\u001b[39;49m\u001b[38;5;124;43m'\u001b[39;49m\u001b[38;5;124;43mbutton\u001b[39;49m\u001b[38;5;124;43m'\u001b[39;49m\u001b[38;5;124;43m]\u001b[39;49m\u001b[38;5;124;43m\"\u001b[39;49m\u001b[43m)\u001b[49m\u001b[43m)\u001b[49m\u001b[43m)\u001b[49m\n\u001b[0;32m      6\u001b[0m \u001b[38;5;28mprint\u001b[39m(login)\n",
      "File \u001b[1;32m~\\AppData\\Local\\Programs\\Python\\Python310\\lib\\site-packages\\selenium\\webdriver\\support\\wait.py:90\u001b[0m, in \u001b[0;36mWebDriverWait.until\u001b[1;34m(self, method, message)\u001b[0m\n\u001b[0;32m     88\u001b[0m     \u001b[38;5;28;01mif\u001b[39;00m time\u001b[38;5;241m.\u001b[39mmonotonic() \u001b[38;5;241m>\u001b[39m end_time:\n\u001b[0;32m     89\u001b[0m         \u001b[38;5;28;01mbreak\u001b[39;00m\n\u001b[1;32m---> 90\u001b[0m \u001b[38;5;28;01mraise\u001b[39;00m TimeoutException(message, screen, stacktrace)\n",
      "\u001b[1;31mTimeoutException\u001b[0m: Message: \nStacktrace:\nBacktrace:\n\tOrdinal0 [0x00415FD3+2187219]\n\tOrdinal0 [0x003AE6D1+1763025]\n\tOrdinal0 [0x002C3E78+802424]\n\tOrdinal0 [0x002F1C10+990224]\n\tOrdinal0 [0x002F1EAB+990891]\n\tOrdinal0 [0x0031EC92+1174674]\n\tOrdinal0 [0x0030CBD4+1100756]\n\tOrdinal0 [0x0031CFC2+1167298]\n\tOrdinal0 [0x0030C9A6+1100198]\n\tOrdinal0 [0x002E6F80+946048]\n\tOrdinal0 [0x002E7E76+949878]\n\tGetHandleVerifier [0x006B90C2+2721218]\n\tGetHandleVerifier [0x006AAAF0+2662384]\n\tGetHandleVerifier [0x004A137A+526458]\n\tGetHandleVerifier [0x004A0416+522518]\n\tOrdinal0 [0x003B4EAB+1789611]\n\tOrdinal0 [0x003B97A8+1808296]\n\tOrdinal0 [0x003B9895+1808533]\n\tOrdinal0 [0x003C26C1+1844929]\n\tBaseThreadInitThunk [0x753B6739+25]\n\tRtlGetFullPathName_UEx [0x77598FEF+1215]\n\tRtlGetFullPathName_UEx [0x77598FBD+1165]\n"
     ]
    }
   ],
   "source": [
    "driver = webdriver.Chrome(service=Service(ChromeDriverManager().install()))\n",
    "\n",
    "#open the webpage\n",
    "driver.get(\"https://www.instagram.com/explore/tags/flipkartsaree/\")\n",
    "login = WebDriverWait(driver, 10).until(EC.element_to_be_clickable((By.CSS_SELECTOR, \"input[class='_acan _acap _acas']\")))\n",
    "\n",
    "# print(login)\n",
    "# login = WebDriverWait(driver, 10).until(EC.element_to_be_clickable((By.XPATH, '//button[contains(text(), \"Not Now\")]'))).click()\n",
    "# username = WebDriverWait(driver, 10).until(EC.element_to_be_clickable((By.CSS_SELECTOR, \"input[name='username']\")))\n",
    "# password = WebDriverWait(driver, 10).until(EC.element_to_be_clickable((By.CSS_SELECTOR, \"input[name='password']\")))\n",
    "\n",
    "# #enter username and password\n",
    "# username.clear()\n",
    "# username.send_keys(\"jayachandra.t12345\")\n",
    "# password.clear()\n",
    "# password.send_keys(\"santhu@123\")\n"
   ]
  },
  {
   "cell_type": "code",
   "execution_count": 20,
   "id": "98aa80b7",
   "metadata": {},
   "outputs": [
    {
     "name": "stdout",
     "output_type": "stream",
     "text": [
      "[None, None, None, None, None, None, None, None, None, None, None, None, None, None, None, None, None, None, None, None, None, None, None, None, None, None, None, None, None, None, None, None, None]\n"
     ]
    }
   ],
   "source": [
    "\n",
    "driver.execute_script(\"window.scrollTo(0, 4000);\")\n",
    "images = driver.find_elements(By.CLASS_NAME, \"_aagw\")\n",
    "images = [image.get_attribute('src') for image in images]\n",
    "print(images)\n",
    "like = driver.find_elements(By.CLASS_NAME, \"_aacl _aaco _aacw _aacx _aada _aade\")\n",
    "for i in like :\n",
    "    print(i.text)"
   ]
  },
  {
   "cell_type": "code",
   "execution_count": null,
   "id": "98fdb523",
   "metadata": {},
   "outputs": [],
   "source": []
  }
 ],
 "metadata": {
  "kernelspec": {
   "display_name": "Python 3 (ipykernel)",
   "language": "python",
   "name": "python3"
  },
  "language_info": {
   "codemirror_mode": {
    "name": "ipython",
    "version": 3
   },
   "file_extension": ".py",
   "mimetype": "text/x-python",
   "name": "python",
   "nbconvert_exporter": "python",
   "pygments_lexer": "ipython3",
   "version": "3.10.5"
  }
 },
 "nbformat": 4,
 "nbformat_minor": 5
}
