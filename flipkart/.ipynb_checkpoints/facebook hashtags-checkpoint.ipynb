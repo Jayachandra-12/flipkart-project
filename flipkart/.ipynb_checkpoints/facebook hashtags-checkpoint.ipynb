{
 "cells": [
  {
   "cell_type": "code",
   "execution_count": 33,
   "id": "cf0e28f6",
   "metadata": {},
   "outputs": [],
   "source": [
    "#imports here\n",
    "from selenium import webdriver\n",
    "from selenium.webdriver.common.keys import Keys\n",
    "from selenium.webdriver.support import expected_conditions as EC\n",
    "from selenium.webdriver.common.by import By\n",
    "from selenium.webdriver.support.wait import WebDriverWait\n",
    "from selenium import webdriver\n",
    "from selenium.webdriver.chrome.service import Service\n",
    "from webdriver_manager.chrome import ChromeDriverManager\n",
    "import time"
   ]
  },
  {
   "cell_type": "code",
   "execution_count": 34,
   "id": "1efef28d",
   "metadata": {},
   "outputs": [
    {
     "name": "stdout",
     "output_type": "stream",
     "text": [
      "\n"
     ]
    }
   ],
   "source": [
    "driver = webdriver.Chrome(service=Service(ChromeDriverManager().install()))\n",
    "\n",
    "#open the webpage\n",
    "driver.get(\"https://www.facebook.com/\")\n"
   ]
  },
  {
   "cell_type": "code",
   "execution_count": 35,
   "id": "9930201d",
   "metadata": {},
   "outputs": [],
   "source": [
    "#target username\n",
    "username = WebDriverWait(driver, 10).until(EC.element_to_be_clickable((By.CSS_SELECTOR, \"input[name='email']\")))\n",
    "password = WebDriverWait(driver, 10).until(EC.element_to_be_clickable((By.CSS_SELECTOR, \"input[name='pass']\")))\n",
    "\n",
    "#enter username and password\n",
    "username.clear()\n",
    "username.send_keys(\"8328060459\")\n",
    "password.clear()\n",
    "password.send_keys(\"8328060459\")\n",
    "\n",
    "#target the login button and click it\n",
    "button = WebDriverWait(driver, 2).until(EC.element_to_be_clickable((By.CSS_SELECTOR, \"button[type='submit']\"))).click()\n",
    "\n",
    "# We are logged in!"
   ]
  },
  {
   "cell_type": "code",
   "execution_count": 37,
   "id": "4507e6bb",
   "metadata": {},
   "outputs": [],
   "source": [
    "#target the search input field\n",
    "searchbox = WebDriverWait(driver, 10).until(EC.element_to_be_clickable((By.XPATH, \"//input[@placeholder='Search Facebook']\")))\n",
    "searchbox.clear()\n",
    "\n",
    "keyword = \"#flipkart\"\n",
    "searchbox.send_keys(keyword)"
   ]
  },
  {
   "cell_type": "code",
   "execution_count": 38,
   "id": "5bb3bb36",
   "metadata": {},
   "outputs": [
    {
     "name": "stdout",
     "output_type": "stream",
     "text": [
      "#flipkartindia\n",
      "#flipkartbigbilliondays\n",
      "#flipkartoffers\n",
      "#flipkartbigsavingdays\n",
      "#flipkartsale\n",
      "#flipkartseller\n",
      "#flipkartshopping\n",
      "#flipkartapp\n",
      "Search for #flipkart\n"
     ]
    }
   ],
   "source": [
    "hashtags = driver.find_elements(By.TAG_NAME, \"ul\")\n",
    "# print(hashtags)\n",
    "for i in hashtags :\n",
    "    if '#' in i.text :\n",
    "        print(i.text)"
   ]
  },
  {
   "cell_type": "code",
   "execution_count": 41,
   "id": "ea4c4bd0",
   "metadata": {},
   "outputs": [],
   "source": [
    "#target the search input field\n",
    "searchbox = WebDriverWait(driver, 10).until(EC.element_to_be_clickable((By.XPATH, \"//input[@placeholder='Search Facebook']\")))\n",
    "searchbox.clear()\n",
    "\n",
    "keyword = \"flipkart\"\n",
    "searchbox.send_keys(keyword)"
   ]
  },
  {
   "cell_type": "code",
   "execution_count": 42,
   "id": "f89fb285",
   "metadata": {},
   "outputs": [
    {
     "name": "stdout",
     "output_type": "stream",
     "text": [
      "Flipkart\n",
      "E-commerce website\n",
      "flipkart online shopping\n",
      "flipkart shopping dress\n",
      "flipkart job vacancy\n",
      "flipkart job vacancy 2022\n",
      "flipkart group\n",
      "Flipkart Video\n",
      "Entertainment website\n",
      "flipkart shopping\n",
      "Search for flipkart\n"
     ]
    }
   ],
   "source": [
    "flipkart = driver.find_elements(By.TAG_NAME, \"ul\")\n",
    "# print(hashtags)\n",
    "for i in flipkart :\n",
    "    if 'flipkart' in i.text :\n",
    "        print(i.text)"
   ]
  },
  {
   "cell_type": "code",
   "execution_count": null,
   "id": "1bd74809",
   "metadata": {},
   "outputs": [],
   "source": []
  }
 ],
 "metadata": {
  "kernelspec": {
   "display_name": "Python 3 (ipykernel)",
   "language": "python",
   "name": "python3"
  },
  "language_info": {
   "codemirror_mode": {
    "name": "ipython",
    "version": 3
   },
   "file_extension": ".py",
   "mimetype": "text/x-python",
   "name": "python",
   "nbconvert_exporter": "python",
   "pygments_lexer": "ipython3",
   "version": "3.10.5"
  }
 },
 "nbformat": 4,
 "nbformat_minor": 5
}
